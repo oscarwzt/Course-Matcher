{
 "cells": [
  {
   "cell_type": "code",
   "execution_count": 1,
   "metadata": {},
   "outputs": [],
   "source": [
    "import requests\n",
    "import pandas as pd\n",
    "from bs4 import BeautifulSoup as BS\n",
    "from selenium import webdriver\n",
    "from selenium.webdriver.common.by import By\n",
    "from selenium.webdriver.support.ui import WebDriverWait\n",
    "from selenium.webdriver.support import expected_conditions as EC\n",
    "from selenium.common.exceptions import TimeoutException\n",
    "from selenium.webdriver.common.action_chains import ActionChains\n",
    "import time"
   ]
  },
  {
   "cell_type": "code",
   "execution_count": 2,
   "metadata": {},
   "outputs": [
    {
     "name": "stderr",
     "output_type": "stream",
     "text": [
      "/var/folders/bt/709h7c513ld30l7ynqg_cv0c0000gn/T/ipykernel_86468/3742758978.py:1: DeprecationWarning: executable_path has been deprecated, please pass in a Service object\n",
      "  driver=webdriver.Chrome('/Users/oscarwan/Downloads/chromedriver')\n"
     ]
    }
   ],
   "source": [
    "driver=webdriver.Chrome('/Users/oscarwan/Downloads/chromedriver')\n",
    "#driver = webdriver.Safari()\n",
    "driver.implicitly_wait(10)"
   ]
  },
  {
   "cell_type": "code",
   "execution_count": 3,
   "metadata": {},
   "outputs": [],
   "source": [
    "url = 'https://www.ratemyprofessors.com/search/teachers?query=*&sid=675'\n",
    "driver.get(url)\n",
    "# handling cookies\n",
    "try:\n",
    "    driver.find_element(By.XPATH, '/html/body/div[5]/div/div/button').click()\n",
    "except:\n",
    "    print('No Cookie Popup')\n",
    "\n",
    "\n",
    "# closing any other popups\n",
    "try:\n",
    "    driver.find_element(By.XPATH, '//*[@id=\"bx-close-inside-1177612\"]').click()\n",
    "except Exception as e:\n",
    "    print(e)\n",
    "    print(\"no popups\")"
   ]
  },
  {
   "cell_type": "code",
   "execution_count": 5,
   "metadata": {},
   "outputs": [
    {
     "data": {
      "text/plain": [
       "'https://www.ratemyprofessors.com/professor?tid=2171'"
      ]
     },
     "execution_count": 5,
     "metadata": {},
     "output_type": "execute_result"
    }
   ],
   "source": [
    "# prof link path\n",
    "linkPath = '//*[@id=\"root\"]/div/div/div[4]/div[1]/div[1]/div[3]/a[1]'\n",
    "driver.find_elements(By.CSS_SELECTOR, 'div.SearchResultsPage__StyledSearchResultsPage-vhbycj-0.bgplVn > div.SearchResultsPage__SearchResultsWrapper-vhbycj-1.gxbBpy')[0].find_elements(By.TAG_NAME, 'a')[0].get_attribute('href')"
   ]
  },
  {
   "cell_type": "code",
   "execution_count": 13,
   "metadata": {},
   "outputs": [
    {
     "name": "stdout",
     "output_type": "stream",
     "text": [
      "Message: stale element reference: element is not attached to the page document\n",
      "  (Session info: chrome=106.0.5249.119)\n",
      "Stacktrace:\n",
      "0   chromedriver                        0x0000000100ef2f44 chromedriver + 3813188\n",
      "1   chromedriver                        0x0000000100e84ae0 chromedriver + 3361504\n",
      "2   chromedriver                        0x0000000100b88c5c chromedriver + 232540\n",
      "3   chromedriver                        0x0000000100b8b934 chromedriver + 244020\n",
      "4   chromedriver                        0x0000000100b8b79c chromedriver + 243612\n",
      "5   chromedriver                        0x0000000100b8b9d0 chromedriver + 244176\n",
      "6   chromedriver                        0x0000000100bbbbbc chromedriver + 441276\n",
      "7   chromedriver                        0x0000000100bbb01c chromedriver + 438300\n",
      "8   chromedriver                        0x0000000100bb0f58 chromedriver + 397144\n",
      "9   chromedriver                        0x0000000100bb0898 chromedriver + 395416\n",
      "10  chromedriver                        0x0000000100be7f44 chromedriver + 622404\n",
      "11  chromedriver                        0x0000000100baf358 chromedriver + 389976\n",
      "12  chromedriver                        0x0000000100bb0284 chromedriver + 393860\n",
      "13  chromedriver                        0x0000000100ec6e18 chromedriver + 3632664\n",
      "14  chromedriver                        0x0000000100eca97c chromedriver + 3647868\n",
      "15  chromedriver                        0x0000000100ed0b58 chromedriver + 3672920\n",
      "16  chromedriver                        0x0000000100ecb350 chromedriver + 3650384\n",
      "17  chromedriver                        0x0000000100ea88dc chromedriver + 3508444\n",
      "18  chromedriver                        0x0000000100ee5914 chromedriver + 3758356\n",
      "19  chromedriver                        0x0000000100ee5a78 chromedriver + 3758712\n",
      "20  chromedriver                        0x0000000100ef96cc chromedriver + 3839692\n",
      "21  libsystem_pthread.dylib             0x00000001bbaf9240 _pthread_start + 148\n",
      "22  libsystem_pthread.dylib             0x00000001bbaf4024 thread_start + 8\n",
      "\n",
      "End of the page\n"
     ]
    }
   ],
   "source": [
    "#driver.find_element(By.CLASS_NAME, 'Buttons__Button-sc-19xdot-1 PaginationButton__StyledPaginationButton-txi1dr-1 gjQZal').click()\n",
    "def waitForLoad(inputXPath):\n",
    "    Wait = WebDriverWait(driver, 20)\n",
    "    Wait.until(EC.presence_of_element_located((By.XPATH, inputXPath)))\n",
    "    \n",
    "bottonPath = '//*[@id=\"root\"]/div/div/div[4]/div[1]/div[1]/div[4]/button'\n",
    "loadMoreBotton = driver.find_element(By.XPATH, bottonPath)\n",
    "while True:\n",
    "    try:\n",
    "        \n",
    "        waitForLoad(bottonPath)\n",
    "        WebDriverWait(driver, 20)\n",
    "        actions = ActionChains(driver)\n",
    "        actions.move_to_element(loadMoreBotton).perform()\n",
    "        \n",
    "        \n",
    "        loadMoreBotton.click()\n",
    "        #driver.find_element(By.CSS_SELECTOR, '#root > div > div > div:nth-child(4) > div.SearchResultsPage__StyledSearchResultsPage-vhbycj-0.bgplVn > div.SearchResultsPage__SearchResultsWrapper-vhbycj-1.gxbBpy > div.SearchResultsPage__AddPromptWrapper-vhbycj-2.dubepU > button').click()\n",
    "        #time.sleep(2)\n",
    "    except Exception as e:\n",
    "        print(e)\n",
    "        print(\"End of the page\")\n",
    "        break\n",
    "    "
   ]
  },
  {
   "cell_type": "code",
   "execution_count": 14,
   "metadata": {},
   "outputs": [],
   "source": [
    "df = pd.DataFrame(columns = ['id', 'name','quality','numOfRatings','department','wouldTakeAgainPercent','difficulty'])\n",
    "for ii, prof in enumerate(driver.find_elements(By.CSS_SELECTOR, 'div.SearchResultsPage__StyledSearchResultsPage-vhbycj-0.bgplVn > div.SearchResultsPage__SearchResultsWrapper-vhbycj-1.gxbBpy')[0].find_elements(By.TAG_NAME, 'a')[:-1]):\n",
    "    profId = int(prof.get_attribute('href').split('=')[1])\n",
    "    prof = prof.text.split('\\n')\n",
    "    df.loc[ii] = [profId, prof[3], prof[1], prof[2].split(' ')[0], prof[4], prof[6].strip('%'),prof[8]]"
   ]
  },
  {
   "cell_type": "code",
   "execution_count": 1,
   "metadata": {},
   "outputs": [
    {
     "ename": "NameError",
     "evalue": "name 'driver' is not defined",
     "output_type": "error",
     "traceback": [
      "\u001b[0;31m---------------------------------------------------------------------------\u001b[0m",
      "\u001b[0;31mNameError\u001b[0m                                 Traceback (most recent call last)",
      "\u001b[0;32m/var/folders/bt/709h7c513ld30l7ynqg_cv0c0000gn/T/ipykernel_28749/4077295361.py\u001b[0m in \u001b[0;36m<module>\u001b[0;34m\u001b[0m\n\u001b[0;32m----> 1\u001b[0;31m \u001b[0;32mfor\u001b[0m \u001b[0mii\u001b[0m\u001b[0;34m,\u001b[0m \u001b[0mprof\u001b[0m \u001b[0;32min\u001b[0m \u001b[0menumerate\u001b[0m\u001b[0;34m(\u001b[0m\u001b[0mdriver\u001b[0m\u001b[0;34m.\u001b[0m\u001b[0mfind_elements\u001b[0m\u001b[0;34m(\u001b[0m\u001b[0mBy\u001b[0m\u001b[0;34m.\u001b[0m\u001b[0mCSS_SELECTOR\u001b[0m\u001b[0;34m,\u001b[0m \u001b[0;34m'div.SearchResultsPage__StyledSearchResultsPage-vhbycj-0.bgplVn > div.SearchResultsPage__SearchResultsWrapper-vhbycj-1.gxbBpy'\u001b[0m\u001b[0;34m)\u001b[0m\u001b[0;34m[\u001b[0m\u001b[0;36m0\u001b[0m\u001b[0;34m]\u001b[0m\u001b[0;34m.\u001b[0m\u001b[0mfind_elements\u001b[0m\u001b[0;34m(\u001b[0m\u001b[0mBy\u001b[0m\u001b[0;34m.\u001b[0m\u001b[0mTAG_NAME\u001b[0m\u001b[0;34m,\u001b[0m \u001b[0;34m'a'\u001b[0m\u001b[0;34m)\u001b[0m\u001b[0;34m[\u001b[0m\u001b[0;34m:\u001b[0m\u001b[0;34m-\u001b[0m\u001b[0;36m1\u001b[0m\u001b[0;34m]\u001b[0m\u001b[0;34m)\u001b[0m\u001b[0;34m:\u001b[0m\u001b[0;34m\u001b[0m\u001b[0;34m\u001b[0m\u001b[0m\n\u001b[0m\u001b[1;32m      2\u001b[0m     \u001b[0ma\u001b[0m \u001b[0;34m=\u001b[0m \u001b[0mprof\u001b[0m\u001b[0;34m.\u001b[0m\u001b[0mget_attribute\u001b[0m\u001b[0;34m(\u001b[0m\u001b[0;34m'href'\u001b[0m\u001b[0;34m)\u001b[0m\u001b[0;34m\u001b[0m\u001b[0;34m\u001b[0m\u001b[0m\n",
      "\u001b[0;31mNameError\u001b[0m: name 'driver' is not defined"
     ]
    }
   ],
   "source": [
    "for ii, prof in enumerate(driver.find_elements(By.CSS_SELECTOR, 'div.SearchResultsPage__StyledSearchResultsPage-vhbycj-0.bgplVn > div.SearchResultsPage__SearchResultsWrapper-vhbycj-1.gxbBpy')[0].find_elements(By.TAG_NAME, 'a')[:-1]):\n",
    "    a = prof.get_attribute('href')"
   ]
  },
  {
   "cell_type": "code",
   "execution_count": 15,
   "metadata": {},
   "outputs": [
    {
     "data": {
      "text/html": [
       "<div>\n",
       "<style scoped>\n",
       "    .dataframe tbody tr th:only-of-type {\n",
       "        vertical-align: middle;\n",
       "    }\n",
       "\n",
       "    .dataframe tbody tr th {\n",
       "        vertical-align: top;\n",
       "    }\n",
       "\n",
       "    .dataframe thead th {\n",
       "        text-align: right;\n",
       "    }\n",
       "</style>\n",
       "<table border=\"1\" class=\"dataframe\">\n",
       "  <thead>\n",
       "    <tr style=\"text-align: right;\">\n",
       "      <th></th>\n",
       "      <th>id</th>\n",
       "      <th>name</th>\n",
       "      <th>quality</th>\n",
       "      <th>numOfRatings</th>\n",
       "      <th>department</th>\n",
       "      <th>wouldTakeAgainPercent</th>\n",
       "      <th>difficulty</th>\n",
       "    </tr>\n",
       "  </thead>\n",
       "  <tbody>\n",
       "    <tr>\n",
       "      <th>0</th>\n",
       "      <td>2171</td>\n",
       "      <td>Julia Keefer</td>\n",
       "      <td>4.5</td>\n",
       "      <td>6</td>\n",
       "      <td>Film</td>\n",
       "      <td>N/A</td>\n",
       "      <td>2.8</td>\n",
       "    </tr>\n",
       "    <tr>\n",
       "      <th>1</th>\n",
       "      <td>18708</td>\n",
       "      <td>Alan Corns</td>\n",
       "      <td>2.8</td>\n",
       "      <td>6</td>\n",
       "      <td>Economics</td>\n",
       "      <td>N/A</td>\n",
       "      <td>4.5</td>\n",
       "    </tr>\n",
       "    <tr>\n",
       "      <th>2</th>\n",
       "      <td>18711</td>\n",
       "      <td>Hasia Diner</td>\n",
       "      <td>3.8</td>\n",
       "      <td>9</td>\n",
       "      <td>Social Science</td>\n",
       "      <td>0</td>\n",
       "      <td>3.2</td>\n",
       "    </tr>\n",
       "    <tr>\n",
       "      <th>3</th>\n",
       "      <td>37951</td>\n",
       "      <td>Steve Hutkins</td>\n",
       "      <td>4.5</td>\n",
       "      <td>7</td>\n",
       "      <td>Interdisciplinary Studies</td>\n",
       "      <td>100</td>\n",
       "      <td>2</td>\n",
       "    </tr>\n",
       "    <tr>\n",
       "      <th>4</th>\n",
       "      <td>41264</td>\n",
       "      <td>Tyler Volk</td>\n",
       "      <td>3.5</td>\n",
       "      <td>43</td>\n",
       "      <td>Science</td>\n",
       "      <td>50</td>\n",
       "      <td>3</td>\n",
       "    </tr>\n",
       "    <tr>\n",
       "      <th>...</th>\n",
       "      <td>...</td>\n",
       "      <td>...</td>\n",
       "      <td>...</td>\n",
       "      <td>...</td>\n",
       "      <td>...</td>\n",
       "      <td>...</td>\n",
       "      <td>...</td>\n",
       "    </tr>\n",
       "    <tr>\n",
       "      <th>3392</th>\n",
       "      <td>1388150</td>\n",
       "      <td>Stefanos Geroulanos</td>\n",
       "      <td>3.9</td>\n",
       "      <td>30</td>\n",
       "      <td>History</td>\n",
       "      <td>65</td>\n",
       "      <td>3.9</td>\n",
       "    </tr>\n",
       "    <tr>\n",
       "      <th>3393</th>\n",
       "      <td>2649675</td>\n",
       "      <td>George Benaroya</td>\n",
       "      <td>5.0</td>\n",
       "      <td>47</td>\n",
       "      <td>Marketing</td>\n",
       "      <td>98</td>\n",
       "      <td>2.8</td>\n",
       "    </tr>\n",
       "    <tr>\n",
       "      <th>3394</th>\n",
       "      <td>2118628</td>\n",
       "      <td>Thomas Reynolds</td>\n",
       "      <td>1.3</td>\n",
       "      <td>6</td>\n",
       "      <td>Liberal Studies</td>\n",
       "      <td>0</td>\n",
       "      <td>4.5</td>\n",
       "    </tr>\n",
       "    <tr>\n",
       "      <th>3395</th>\n",
       "      <td>2595628</td>\n",
       "      <td>Joseph Califf</td>\n",
       "      <td>3.8</td>\n",
       "      <td>8</td>\n",
       "      <td>Writing</td>\n",
       "      <td>63</td>\n",
       "      <td>4</td>\n",
       "    </tr>\n",
       "    <tr>\n",
       "      <th>3396</th>\n",
       "      <td>2830233</td>\n",
       "      <td>Alfonso Morgan-Terrero</td>\n",
       "      <td>0.0</td>\n",
       "      <td>0</td>\n",
       "      <td>Film &amp; Television</td>\n",
       "      <td>N/A</td>\n",
       "      <td>0</td>\n",
       "    </tr>\n",
       "  </tbody>\n",
       "</table>\n",
       "<p>3397 rows × 7 columns</p>\n",
       "</div>"
      ],
      "text/plain": [
       "           id                    name quality numOfRatings  \\\n",
       "0        2171            Julia Keefer     4.5            6   \n",
       "1       18708              Alan Corns     2.8            6   \n",
       "2       18711             Hasia Diner     3.8            9   \n",
       "3       37951           Steve Hutkins     4.5            7   \n",
       "4       41264              Tyler Volk     3.5           43   \n",
       "...       ...                     ...     ...          ...   \n",
       "3392  1388150     Stefanos Geroulanos     3.9           30   \n",
       "3393  2649675         George Benaroya     5.0           47   \n",
       "3394  2118628         Thomas Reynolds     1.3            6   \n",
       "3395  2595628           Joseph Califf     3.8            8   \n",
       "3396  2830233  Alfonso Morgan-Terrero     0.0            0   \n",
       "\n",
       "                     department wouldTakeAgainPercent difficulty  \n",
       "0                          Film                   N/A        2.8  \n",
       "1                     Economics                   N/A        4.5  \n",
       "2                Social Science                     0        3.2  \n",
       "3     Interdisciplinary Studies                   100          2  \n",
       "4                       Science                    50          3  \n",
       "...                         ...                   ...        ...  \n",
       "3392                    History                    65        3.9  \n",
       "3393                  Marketing                    98        2.8  \n",
       "3394            Liberal Studies                     0        4.5  \n",
       "3395                    Writing                    63          4  \n",
       "3396          Film & Television                   N/A          0  \n",
       "\n",
       "[3397 rows x 7 columns]"
      ]
     },
     "execution_count": 15,
     "metadata": {},
     "output_type": "execute_result"
    }
   ],
   "source": [
    "df"
   ]
  },
  {
   "cell_type": "code",
   "execution_count": 16,
   "metadata": {},
   "outputs": [],
   "source": [
    "df.to_csv('generalProfRatings.csv')"
   ]
  },
  {
   "cell_type": "code",
   "execution_count": null,
   "metadata": {},
   "outputs": [],
   "source": []
  }
 ],
 "metadata": {
  "kernelspec": {
   "display_name": "Python 3.9.7 ('base')",
   "language": "python",
   "name": "python3"
  },
  "language_info": {
   "codemirror_mode": {
    "name": "ipython",
    "version": 3
   },
   "file_extension": ".py",
   "mimetype": "text/x-python",
   "name": "python",
   "nbconvert_exporter": "python",
   "pygments_lexer": "ipython3",
   "version": "3.9.7"
  },
  "orig_nbformat": 4,
  "vscode": {
   "interpreter": {
    "hash": "40d3a090f54c6569ab1632332b64b2c03c39dcf918b08424e98f38b5ae0af88f"
   }
  }
 },
 "nbformat": 4,
 "nbformat_minor": 2
}
